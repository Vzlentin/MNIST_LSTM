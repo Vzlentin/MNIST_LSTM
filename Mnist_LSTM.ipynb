{
  "nbformat": 4,
  "nbformat_minor": 0,
  "metadata": {
    "colab": {
      "name": "Mnist_LSTM.ipynb",
      "provenance": [],
      "collapsed_sections": [],
      "authorship_tag": "ABX9TyP4SA4MqMBUFRve68OjJv8Q",
      "include_colab_link": true
    },
    "kernelspec": {
      "name": "python3",
      "display_name": "Python 3"
    }
  },
  "cells": [
    {
      "cell_type": "markdown",
      "metadata": {
        "id": "view-in-github",
        "colab_type": "text"
      },
      "source": [
        "<a href=\"https://colab.research.google.com/github/Vzlentin/MNIST_LSTM/blob/main/Mnist_LSTM.ipynb\" target=\"_parent\"><img src=\"https://colab.research.google.com/assets/colab-badge.svg\" alt=\"Open In Colab\"/></a>"
      ]
    },
    {
      "cell_type": "markdown",
      "metadata": {
        "id": "G1VwQaMHWw8p"
      },
      "source": [
        "# MNIST avec un RNN LSTM"
      ]
    },
    {
      "cell_type": "code",
      "metadata": {
        "id": "h0sNoVw0-8sk"
      },
      "source": [
        "try:\n",
        "  %tensorflow_version 2.x\n",
        "except Exception:\n",
        "  pass"
      ],
      "execution_count": null,
      "outputs": []
    },
    {
      "cell_type": "code",
      "metadata": {
        "id": "VMO6m09d-_qv"
      },
      "source": [
        "import tensorflow as tf\n",
        "\n",
        "from tensorflow.keras.models import Sequential\n",
        "from tensorflow.keras.layers import Dense, Dropout, LSTM\n",
        "\n",
        "import matplotlib.pyplot as plt\n",
        "\n",
        "import numpy as np\n",
        "\n",
        "from termcolor import colored"
      ],
      "execution_count": null,
      "outputs": []
    },
    {
      "cell_type": "markdown",
      "metadata": {
        "id": "RY7y_GVAVFrp"
      },
      "source": [
        "## Import du dataset"
      ]
    },
    {
      "cell_type": "code",
      "metadata": {
        "id": "MpP4pwI5Nkkc"
      },
      "source": [
        "mnist = tf.keras.datasets.mnist\n",
        "(x_train, y_train),(x_test, y_test) = mnist.load_data()"
      ],
      "execution_count": null,
      "outputs": []
    },
    {
      "cell_type": "markdown",
      "metadata": {
        "id": "z140AsiS_8nw"
      },
      "source": [
        "Mnist: base de données de chiffres écrits à la main"
      ]
    },
    {
      "cell_type": "code",
      "metadata": {
        "id": "avDa4g-gMd5k",
        "outputId": "f91253d9-9eaf-457f-e9f0-a4e2030589d7",
        "colab": {
          "base_uri": "https://localhost:8080/",
          "height": 282
        }
      },
      "source": [
        "plt.imshow(x_test[1])\n",
        "print(\"\\t\\t\",colored(y_test[1], \"blue\"))"
      ],
      "execution_count": null,
      "outputs": [
        {
          "output_type": "stream",
          "text": [
            "\t\t \u001b[34m2\u001b[0m\n"
          ],
          "name": "stdout"
        },
        {
          "output_type": "display_data",
          "data": {
            "image/png": "[encoded data removed]",
            "text/plain": [
              "<Figure size 432x288 with 1 Axes>"
            ]
          },
          "metadata": {
            "tags": []
          }
        }
      ]
    },
    {
      "cell_type": "markdown",
      "metadata": {
        "id": "zfSNol-vSWZA"
      },
      "source": [
        "Les chiffres vont de 0 à 9, les images en x et les valeurs du chiffre en y"
      ]
    },
    {
      "cell_type": "code",
      "metadata": {
        "id": "CXuM8bRI_-zN",
        "outputId": "d7f95cd2-3000-4d59-cd4f-597e498b4e83",
        "colab": {
          "base_uri": "https://localhost:8080/",
          "height": 50
        }
      },
      "source": [
        "print(x_train.shape)\n",
        "print(x_train[0].shape)"
      ],
      "execution_count": null,
      "outputs": [
        {
          "output_type": "stream",
          "text": [
            "(60000, 28, 28)\n",
            "(28, 28)\n"
          ],
          "name": "stdout"
        }
      ]
    },
    {
      "cell_type": "markdown",
      "metadata": {
        "id": "uy3AbZtATo4Q"
      },
      "source": [
        "x_train : vecteur de dimension 3"
      ]
    },
    {
      "cell_type": "code",
      "metadata": {
        "id": "6YlofjgFIG3I"
      },
      "source": [
        "x_train = x_train / 255.0\n",
        "x_test = x_test / 255.0"
      ],
      "execution_count": null,
      "outputs": []
    },
    {
      "cell_type": "markdown",
      "metadata": {
        "id": "xiN1pQEIISAP"
      },
      "source": [
        "Ici les données sont normalisées, très important car les réseaux de neurones récurrents sont par essence très sensibles aux différences d'échelle entre les données"
      ]
    },
    {
      "cell_type": "markdown",
      "metadata": {
        "id": "N2PI8OoCWG_J"
      },
      "source": [
        "La valeur d'un pixel étant comprise entre 0 et 255 en divisant chacun d'entre eux par 255 leurs valeurs seront toutes comprises entre 0 et 1"
      ]
    },
    {
      "cell_type": "markdown",
      "metadata": {
        "id": "k9RI0d1wVLia"
      },
      "source": [
        "## Construction du modèle"
      ]
    },
    {
      "cell_type": "code",
      "metadata": {
        "id": "3zsph4D8Ael2"
      },
      "source": [
        "def build_model():\n",
        "  model = Sequential()\n",
        "\n",
        "  model.add(LSTM(128, input_shape=(28, 28), activation='relu', return_sequences=True))\n",
        "  model.add(Dropout(0.2))\n",
        "\n",
        "  model.add(LSTM(128, activation='relu'))\n",
        "  model.add(Dropout(0.2))\n",
        "\n",
        "  model.add(Dense(32, activation='relu'))\n",
        "  model.add(Dropout(0.2))\n",
        "\n",
        "  model.add(Dense(10, activation='softmax'))\n",
        "\n",
        "  return model"
      ],
      "execution_count": null,
      "outputs": []
    },
    {
      "cell_type": "markdown",
      "metadata": {
        "id": "IpQiS1KUPUdn"
      },
      "source": [
        "Première couche avec input_shape cohérent avec x_train, c'est à dire que l'on configure le RNN pour qu'il s'attende bien aux données que l'on va lui envoyer"
      ]
    },
    {
      "cell_type": "markdown",
      "metadata": {
        "id": "-JBH2FrqTTpQ"
      },
      "source": [
        "On met return_sequences=True, pour que la deuxième couche LSTM recoive elle aussi en entrée un vecteur de dimension 3, comme x_train"
      ]
    },
    {
      "cell_type": "markdown",
      "metadata": {
        "id": "Guu4BnEuPn8F"
      },
      "source": [
        "Dropout pour éviter le surentraînage, pendant l'entrainement chaque noeud aura 20% de chance d'être \"lâché\" hors du réseau"
      ]
    },
    {
      "cell_type": "markdown",
      "metadata": {
        "id": "xbQkYBiHGB2n"
      },
      "source": [
        "Dernière couche d'une épaisseur de 10 car nous avons 10 classes (10 chiffres)"
      ]
    },
    {
      "cell_type": "code",
      "metadata": {
        "id": "oxh-eX2FBcaz"
      },
      "source": [
        "opti = tf.keras.optimizers.Adam(learning_rate=1e-3, decay=1e-5)"
      ],
      "execution_count": null,
      "outputs": []
    },
    {
      "cell_type": "markdown",
      "metadata": {
        "id": "GCHxNPvKB3zs"
      },
      "source": [
        "learning_rate = 0,001 de base, qui va être réduit de la valeur de decay durant l'entrainement à chaque epoch"
      ]
    },
    {
      "cell_type": "code",
      "metadata": {
        "id": "_Ed-Yx88Bpvp",
        "outputId": "037532e4-c748-41a1-922e-5bbb55e3adb3",
        "colab": {
          "base_uri": "https://localhost:8080/",
          "height": 151
        }
      },
      "source": [
        "model = build_model()\n",
        "model.compile(loss='sparse_categorical_crossentropy', optimizer=opti, metrics=['accuracy'])\n",
        "model.fit(x_train, y_train, epochs=3, validation_data=(x_test, y_test))"
      ],
      "execution_count": null,
      "outputs": [
        {
          "output_type": "stream",
          "text": [
            "Train on 60000 samples, validate on 10000 samples\n",
            "Epoch 1/3\n",
            "60000/60000 [==============================] - 136s 2ms/sample - loss: 0.5944 - accuracy: 0.8087 - val_loss: 0.1359 - val_accuracy: 0.9605\n",
            "Epoch 2/3\n",
            "60000/60000 [==============================] - 134s 2ms/sample - loss: 0.1589 - accuracy: 0.9588 - val_loss: 0.0823 - val_accuracy: 0.9770\n",
            "Epoch 3/3\n",
            "60000/60000 [==============================] - 134s 2ms/sample - loss: 0.1044 - accuracy: 0.9711 - val_loss: 0.0743 - val_accuracy: 0.9789\n"
          ],
          "name": "stdout"
        },
        {
          "output_type": "execute_result",
          "data": {
            "text/plain": [
              "<tensorflow.python.keras.callbacks.History at 0x7fb902ccb080>"
            ]
          },
          "metadata": {
            "tags": []
          },
          "execution_count": 61
        }
      ]
    },
    {
      "cell_type": "code",
      "metadata": {
        "id": "0ACLIjWUFW6D",
        "outputId": "f8ee41ea-21a7-4970-e903-b7cfe03eed24",
        "colab": {
          "base_uri": "https://localhost:8080/",
          "height": 34
        }
      },
      "source": [
        "test_loss, test_acc = model.evaluate(x_test, y_test, verbose=2)"
      ],
      "execution_count": null,
      "outputs": [
        {
          "output_type": "stream",
          "text": [
            "10000/10000 - 6s - loss: 0.0743 - accuracy: 0.9789\n"
          ],
          "name": "stdout"
        }
      ]
    },
    {
      "cell_type": "markdown",
      "metadata": {
        "id": "HdTZ2as_LYPD"
      },
      "source": [
        "Ici la précision est bonne, contrairement à la première version de ce code ou je n'avais pas normalisé les données obtenant un score de 0.1197"
      ]
    },
    {
      "cell_type": "markdown",
      "metadata": {
        "id": "jM1l0CIlU8b5"
      },
      "source": [
        "## Prédiction"
      ]
    },
    {
      "cell_type": "code",
      "metadata": {
        "id": "oWtITjcKLzv7",
        "outputId": "a8a13f19-c90c-480e-e942-7a09522b5e1d",
        "colab": {
          "base_uri": "https://localhost:8080/",
          "height": 1000
        }
      },
      "source": [
        "predictions = model.predict(x_test)\n",
        "\n",
        "for i in range(25):\n",
        "  plt.figure()\n",
        "  plt.imshow(x_test[i])\n",
        "  plt.grid(False)\n",
        "  plt.show()\n",
        "  \n",
        "  if(np.argmax(predictions[i]) == y_test[[i]]):\n",
        "    print(\"Chiffre reconnu par le RNN:\",colored(np.argmax(predictions[i]),\"blue\"))\n",
        "  else:\n",
        "    print(\"Chiffre reconnu par le RNN:\",colored(np.argmax(predictions[i]),\"red\"))"
      ],
      "execution_count": null,
      "outputs": [
        {
          "output_type": "display_data",
          "data": {
            "image/png": "[encoded data removed]",
            "text/plain": [
              "<Figure size 432x288 with 1 Axes>"
            ]
          },
          "metadata": {
            "tags": []
          }
        },
        {
          "output_type": "stream",
          "text": [
            "Chiffre reconnu par le RNN: \u001b[34m7\u001b[0m\n"
          ],
          "name": "stdout"
        },
        {
          "output_type": "display_data",
          "data": {
            "image/png": "[encoded data removed]",
            "text/plain": [
              "<Figure size 432x288 with 1 Axes>"
            ]
          },
          "metadata": {
            "tags": []
          }
        },
        {
          "output_type": "stream",
          "text": [
            "Chiffre reconnu par le RNN: \u001b[34m2\u001b[0m\n"
          ],
          "name": "stdout"
        },
        {
          "output_type": "display_data",
          "data": {
            "image/png": "[encoded data removed]",
            "text/plain": [
              "<Figure size 432x288 with 1 Axes>"
            ]
          },
          "metadata": {
            "tags": []
          }
        },
        {
          "output_type": "stream",
          "text": [
            "Chiffre reconnu par le RNN: \u001b[34m1\u001b[0m\n"
          ],
          "name": "stdout"
        },
        {
          "output_type": "display_data",
          "data": {
            "image/png": "[encoded data removed]",
            "text/plain": [
              "<Figure size 432x288 with 1 Axes>"
            ]
          },
          "metadata": {
            "tags": []
          }
        },
        {
          "output_type": "stream",
          "text": [
            "Chiffre reconnu par le RNN: \u001b[34m0\u001b[0m\n"
          ],
          "name": "stdout"
        },
        {
          "output_type": "display_data",
          "data": {
            "image/png": "[encoded data removed]",
            "text/plain": [
              "<Figure size 432x288 with 1 Axes>"
            ]
          },
          "metadata": {
            "tags": []
          }
        },
        {
          "output_type": "stream",
          "text": [
            "Chiffre reconnu par le RNN: \u001b[34m4\u001b[0m\n"
          ],
          "name": "stdout"
        },
        {
          "output_type": "display_data",
          "data": {
            "image/png": "[encoded data removed]",
            "text/plain": [
              "<Figure size 432x288 with 1 Axes>"
            ]
          },
          "metadata": {
            "tags": []
          }
        },
        {
          "output_type": "stream",
          "text": [
            "Chiffre reconnu par le RNN: \u001b[34m1\u001b[0m\n"
          ],
          "name": "stdout"
        },
        {
          "output_type": "display_data",
          "data": {
            "image/png": "[encoded data removed]",
            "text/plain": [
              "<Figure size 432x288 with 1 Axes>"
            ]
          },
          "metadata": {
            "tags": []
          }
        },
        {
          "output_type": "stream",
          "text": [
            "Chiffre reconnu par le RNN: \u001b[34m4\u001b[0m\n"
          ],
          "name": "stdout"
        },
        {
          "output_type": "display_data",
          "data": {
            "image/png": "[encoded data removed]",
            "text/plain": [
              "<Figure size 432x288 with 1 Axes>"
            ]
          },
          "metadata": {
            "tags": []
          }
        },
        {
          "output_type": "stream",
          "text": [
            "Chiffre reconnu par le RNN: \u001b[34m9\u001b[0m\n"
          ],
          "name": "stdout"
        },
        {
          "output_type": "display_data",
          "data": {
            "image/png": "[encoded data removed]",
            "text/plain": [
              "<Figure size 432x288 with 1 Axes>"
            ]
          },
          "metadata": {
            "tags": []
          }
        },
        {
          "output_type": "stream",
          "text": [
            "Chiffre reconnu par le RNN: \u001b[34m5\u001b[0m\n"
          ],
          "name": "stdout"
        },
        {
          "output_type": "display_data",
          "data": {
            "image/png": "[encoded data removed]",
            "text/plain": [
              "<Figure size 432x288 with 1 Axes>"
            ]
          },
          "metadata": {
            "tags": []
          }
        },
        {
          "output_type": "stream",
          "text": [
            "Chiffre reconnu par le RNN: \u001b[34m9\u001b[0m\n"
          ],
          "name": "stdout"
        },
        {
          "output_type": "display_data",
          "data": {
            "image/png": "[encoded data removed]",
            "text/plain": [
              "<Figure size 432x288 with 1 Axes>"
            ]
          },
          "metadata": {
            "tags": []
          }
        },
        {
          "output_type": "stream",
          "text": [
            "Chiffre reconnu par le RNN: \u001b[34m0\u001b[0m\n"
          ],
          "name": "stdout"
        },
        {
          "output_type": "display_data",
          "data": {
            "image/png": "[encoded data removed]",
            "text/plain": [
              "<Figure size 432x288 with 1 Axes>"
            ]
          },
          "metadata": {
            "tags": []
          }
        },
        {
          "output_type": "stream",
          "text": [
            "Chiffre reconnu par le RNN: \u001b[34m6\u001b[0m\n"
          ],
          "name": "stdout"
        },
        {
          "output_type": "display_data",
          "data": {
            "image/png": "[encoded data removed]",
            "text/plain": [
              "<Figure size 432x288 with 1 Axes>"
            ]
          },
          "metadata": {
            "tags": []
          }
        },
        {
          "output_type": "stream",
          "text": [
            "Chiffre reconnu par le RNN: \u001b[34m9\u001b[0m\n"
          ],
          "name": "stdout"
        },
        {
          "output_type": "display_data",
          "data": {
            "image/png": "[encoded data removed]",
            "text/plain": [
              "<Figure size 432x288 with 1 Axes>"
            ]
          },
          "metadata": {
            "tags": []
          }
        },
        {
          "output_type": "stream",
          "text": [
            "Chiffre reconnu par le RNN: \u001b[34m0\u001b[0m\n"
          ],
          "name": "stdout"
        },
        {
          "output_type": "display_data",
          "data": {
            "image/png": "[encoded data removed]",
            "text/plain": [
              "<Figure size 432x288 with 1 Axes>"
            ]
          },
          "metadata": {
            "tags": []
          }
        },
        {
          "output_type": "stream",
          "text": [
            "Chiffre reconnu par le RNN: \u001b[34m1\u001b[0m\n"
          ],
          "name": "stdout"
        },
        {
          "output_type": "display_data",
          "data": {
            "image/png": "[encoded data removed]",
            "text/plain": [
              "<Figure size 432x288 with 1 Axes>"
            ]
          },
          "metadata": {
            "tags": []
          }
        },
        {
          "output_type": "stream",
          "text": [
            "Chiffre reconnu par le RNN: \u001b[34m5\u001b[0m\n"
          ],
          "name": "stdout"
        },
        {
          "output_type": "display_data",
          "data": {
            "image/png": "[encoded data removed]",
            "text/plain": [
              "<Figure size 432x288 with 1 Axes>"
            ]
          },
          "metadata": {
            "tags": []
          }
        },
        {
          "output_type": "stream",
          "text": [
            "Chiffre reconnu par le RNN: \u001b[34m9\u001b[0m\n"
          ],
          "name": "stdout"
        },
        {
          "output_type": "display_data",
          "data": {
            "image/png": "[encoded data removed]",
            "text/plain": [
              "<Figure size 432x288 with 1 Axes>"
            ]
          },
          "metadata": {
            "tags": []
          }
        },
        {
          "output_type": "stream",
          "text": [
            "Chiffre reconnu par le RNN: \u001b[34m7\u001b[0m\n"
          ],
          "name": "stdout"
        },
        {
          "output_type": "display_data",
          "data": {
            "image/png": "[encoded data removed]",
            "text/plain": [
              "<Figure size 432x288 with 1 Axes>"
            ]
          },
          "metadata": {
            "tags": []
          }
        },
        {
          "output_type": "stream",
          "text": [
            "Chiffre reconnu par le RNN: \u001b[34m3\u001b[0m\n"
          ],
          "name": "stdout"
        },
        {
          "output_type": "display_data",
          "data": {
            "image/png": "[encoded data removed]",
            "text/plain": [
              "<Figure size 432x288 with 1 Axes>"
            ]
          },
          "metadata": {
            "tags": []
          }
        },
        {
          "output_type": "stream",
          "text": [
            "Chiffre reconnu par le RNN: \u001b[34m4\u001b[0m\n"
          ],
          "name": "stdout"
        },
        {
          "output_type": "display_data",
          "data": {
            "image/png": "[encoded data removed]",
            "text/plain": [
              "<Figure size 432x288 with 1 Axes>"
            ]
          },
          "metadata": {
            "tags": []
          }
        },
        {
          "output_type": "stream",
          "text": [
            "Chiffre reconnu par le RNN: \u001b[34m9\u001b[0m\n"
          ],
          "name": "stdout"
        },
        {
          "output_type": "display_data",
          "data": {
            "image/png": "[encoded data removed]",
            "text/plain": [
              "<Figure size 432x288 with 1 Axes>"
            ]
          },
          "metadata": {
            "tags": []
          }
        },
        {
          "output_type": "stream",
          "text": [
            "Chiffre reconnu par le RNN: \u001b[34m6\u001b[0m\n"
          ],
          "name": "stdout"
        },
        {
          "output_type": "display_data",
          "data": {
            "image/png": "[encoded data removed]",
            "text/plain": [
              "<Figure size 432x288 with 1 Axes>"
            ]
          },
          "metadata": {
            "tags": []
          }
        },
        {
          "output_type": "stream",
          "text": [
            "Chiffre reconnu par le RNN: \u001b[34m6\u001b[0m\n"
          ],
          "name": "stdout"
        },
        {
          "output_type": "display_data",
          "data": {
            "image/png": "[encoded data removed]",
            "text/plain": [
              "<Figure size 432x288 with 1 Axes>"
            ]
          },
          "metadata": {
            "tags": []
          }
        },
        {
          "output_type": "stream",
          "text": [
            "Chiffre reconnu par le RNN: \u001b[34m5\u001b[0m\n"
          ],
          "name": "stdout"
        },
        {
          "output_type": "display_data",
          "data": {
            "image/png": "[encoded data removed]",
            "text/plain": [
              "<Figure size 432x288 with 1 Axes>"
            ]
          },
          "metadata": {
            "tags": []
          }
        },
        {
          "output_type": "stream",
          "text": [
            "Chiffre reconnu par le RNN: \u001b[34m4\u001b[0m\n"
          ],
          "name": "stdout"
        }
      ]
    }
  ]
}